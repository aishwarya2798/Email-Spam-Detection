{
  "cells": [
    {
      "metadata": {
        "_uuid": "8f2839f25d086af736a60e9eeb907d3b93b6e0e5",
        "_cell_guid": "b1076dfc-b9ad-4769-8c92-a6c4dae69d19",
        "trusted": true
      },
      "cell_type": "code",
      "source": "# This Python 3 environment comes with many helpful analytics libraries installed\n# It is defined by the kaggle/python docker image: https://github.com/kaggle/docker-python\n# For example, here's several helpful packages to load in \n\nimport numpy as np # linear algebra\nimport pandas as pd # data processing, CSV file I/O (e.g. pd.read_csv)\n\n# Input data files are available in the \"../input/\" directory.\n# For example, running this (by clicking run or pressing Shift+Enter) will list the files in the input directory\n\nimport os\nprint(os.listdir(\"../input\"))\n\n# Any results you write to the current directory are saved as output.",
      "execution_count": 83,
      "outputs": [
        {
          "output_type": "stream",
          "text": "['spam.csv']\n",
          "name": "stdout"
        }
      ]
    },
    {
      "metadata": {
        "_cell_guid": "79c7e3d0-c299-4dcb-8224-4455121ee9b0",
        "collapsed": true,
        "_uuid": "d629ff2d2480ee46fbb7e2d37f6b5fab8052498a",
        "trusted": true
      },
      "cell_type": "code",
      "source": "import pandas as pd\nimport numpy as np",
      "execution_count": 84,
      "outputs": []
    },
    {
      "metadata": {
        "trusted": true,
        "collapsed": true,
        "_uuid": "bcc3f7e1e6a0f75217a32733ab17220e94e187fc"
      },
      "cell_type": "code",
      "source": "from sklearn import preprocessing",
      "execution_count": 85,
      "outputs": []
    },
    {
      "metadata": {
        "trusted": true,
        "collapsed": true,
        "_uuid": "a697e5f76d8b6733153a76dd1d38dd4fd276995f"
      },
      "cell_type": "code",
      "source": "def sigmoid(x):\n    return (1.0/(1.0 + np.exp(-x)))\ndef derivative(x):\n    return x * (1.0-x)",
      "execution_count": 86,
      "outputs": []
    },
    {
      "metadata": {
        "trusted": true,
        "_uuid": "cb0cad002bdd79a0b112a2700538163383ddf707",
        "collapsed": true
      },
      "cell_type": "code",
      "source": "X = []\nY = []\nwith open('../input/spam.csv') as f:\n    for line in f:\n        c = line.split(',')\n        new_c = [1]\n        for i in c[:len(c)-1]:\n            new_c.append(float(i))\n        X.append(new_c)\n        Y.append([float(c[-1])])",
      "execution_count": 87,
      "outputs": []
    },
    {
      "metadata": {
        "trusted": true,
        "collapsed": true,
        "_uuid": "5013c6fabe7a775f9d1639095db7d03e2d15058a"
      },
      "cell_type": "code",
      "source": "X = np.array(X)\nX = preprocessing.scale(X)\nY = np.array(Y)",
      "execution_count": 88,
      "outputs": []
    },
    {
      "metadata": {
        "trusted": true,
        "_uuid": "02dad49b2522901282888925c2cdf34c7d1954e2",
        "collapsed": true
      },
      "cell_type": "code",
      "source": "from sklearn.model_selection import train_test_split\nX_train, X_test, Y_train, Y_test = train_test_split(X, Y, test_size=0.2)",
      "execution_count": 89,
      "outputs": []
    },
    {
      "metadata": {
        "trusted": true,
        "collapsed": true,
        "_uuid": "4cfcb9259dd1699c28cff8ff5627935624e1c668"
      },
      "cell_type": "code",
      "source": "hidden_node = 4\niteration = 25000\nd1 = len(X_train[0])\nd2 = hidden_node",
      "execution_count": 90,
      "outputs": []
    },
    {
      "metadata": {
        "trusted": true,
        "_uuid": "1e0bd05bc35d7247fd7553c491a5ce857c61d857",
        "collapsed": true
      },
      "cell_type": "code",
      "source": "np.random.seed(1)\nw0 = 2 * np.random.random((d1, d2)) - 1\nw1 = 2 * np.random.random((d2, 1)) - 1",
      "execution_count": 91,
      "outputs": []
    },
    {
      "metadata": {
        "trusted": true,
        "_uuid": "552ad57d6912b1568d0a2b254f2b514b99b0caa7"
      },
      "cell_type": "code",
      "source": "for j in range(iteration):\n    l0 = X_train\n    l1 = sigmoid(np.dot(l0,w0))\n    l2 = sigmoid(np.dot(l1,w1))\n    error = Y_train-l2\n    l2_b = error * derivative(l2)\n    l1_e = l2_b.dot(w1.T)\n    l1_b = l1_e * derivative(l1)\n    w1 += l1.T.dot(l2_b)\n    w0 += l0.T.dot(l1_b)",
      "execution_count": 92,
      "outputs": [
        {
          "output_type": "stream",
          "text": "/opt/conda/lib/python3.6/site-packages/ipykernel_launcher.py:2: RuntimeWarning: overflow encountered in exp\n  \n",
          "name": "stderr"
        }
      ]
    },
    {
      "metadata": {
        "trusted": true,
        "_uuid": "b912f94586b000eaa615faab41896b658cda1063"
      },
      "cell_type": "code",
      "source": "l0 = X_test\nl1 = sigmoid(np.dot(l0,w0))\nl2 = sigmoid(np.dot(l1,w1))",
      "execution_count": 93,
      "outputs": [
        {
          "output_type": "stream",
          "text": "/opt/conda/lib/python3.6/site-packages/ipykernel_launcher.py:2: RuntimeWarning: overflow encountered in exp\n  \n",
          "name": "stderr"
        }
      ]
    },
    {
      "metadata": {
        "trusted": true,
        "_uuid": "29f96fea0c3919f930439095f0e97ad729efdcac"
      },
      "cell_type": "code",
      "source": "accurate = 0\nfor k in range(len(l2)):\n    if(l2[k][0] > 0.5):\n        l2[k][0] = 1\n    else:\n        l2[k][0] = 0\n    if(l2[k][0] == Y_test[k][0]):\n        accurate += 1\nprint(\"Model Accuracy = \",(accurate)/len(l2))",
      "execution_count": 94,
      "outputs": [
        {
          "output_type": "stream",
          "text": "Model Accuracy =  0.9163952225841476\n",
          "name": "stdout"
        }
      ]
    },
    {
      "metadata": {
        "trusted": true,
        "collapsed": true,
        "_uuid": "ac7d517b1ba6d52b1721a8d8da4590d2000b9a35"
      },
      "cell_type": "code",
      "source": "",
      "execution_count": null,
      "outputs": []
    }
  ],
  "metadata": {
    "kernelspec": {
      "display_name": "Python 3",
      "language": "python",
      "name": "python3"
    },
    "language_info": {
      "name": "python",
      "version": "3.6.4",
      "mimetype": "text/x-python",
      "codemirror_mode": {
        "name": "ipython",
        "version": 3
      },
      "pygments_lexer": "ipython3",
      "nbconvert_exporter": "python",
      "file_extension": ".py"
    }
  },
  "nbformat": 4,
  "nbformat_minor": 1
}